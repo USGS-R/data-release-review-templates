{
 "cells": [
  {
   "cell_type": "code",
   "execution_count": null,
   "id": "63a4d848",
   "metadata": {},
   "outputs": [],
   "source": [
    "import pandas as pd\n",
    "import numpy as np\n",
    "import glob\n",
    "import os\n",
    "import matplotlib"
   ]
  },
  {
   "cell_type": "code",
   "execution_count": 1,
   "id": "f9624750",
   "metadata": {},
   "outputs": [],
   "source": [
    "### read data groups \n",
    "\n",
    "def read_in_csv_gp(base_folder, file_string, dtype_dict = None):\n",
    "\n",
    "    lst_csv = glob.glob(base_folder+ f'*{file_string}*.csv')\n",
    "    lst_filename = []\n",
    "    lst_dfs = []\n",
    "\n",
    "    for i in lst_csv:\n",
    "        \n",
    "        leng = len(i.split('/')) - 1\n",
    "        filename = i.split('/')[leng]\n",
    "        print(filename)\n",
    "    \n",
    "        print('Location:' + i)\n",
    "    \n",
    "        df = pd.read_csv(i, on_bad_lines = 'warn', low_memory = False, dtype = dtype_dict)\n",
    "        df['filename']= filename\n",
    "    \n",
    "        display(df.head(), df.columns)\n",
    "        \n",
    "        lst_filename.append(filename)\n",
    "        lst_dfs.append(df)\n",
    "    \n",
    "    return lst_filename, lst_dfs"
   ]
  },
  {
   "cell_type": "code",
   "execution_count": null,
   "id": "8bc40b35",
   "metadata": {},
   "outputs": [],
   "source": [
    "## General specs print out\n",
    "\n",
    "def print_df_specs(df):\n",
    "    print('\\n', df.filename[0])\n",
    "    print(df.info)\n",
    "    print('\\n')\n",
    "    display(df.describe())\n",
    "    print('\\n Any duplicates: \\n')\n",
    "    print(df[df.duplicated()])\n",
    "    print('\\n')\n"
   ]
  },
  {
   "cell_type": "code",
   "execution_count": 44,
   "id": "a9a4e780",
   "metadata": {},
   "outputs": [],
   "source": [
    "## Dates check\n",
    "\n",
    "def check_date(df, date_col: str):\n",
    "    print('\\noriginal date col type:', df[date_col].dtype)\n",
    "    try:\n",
    "        df[date_col] = pd.to_datetime(df[date_col], format='%Y-%m-%d', errors='raise')\n",
    "        print('\\n date col type after pandas conversion:', df[date_col].dtype)\n",
    "        print('date format e.g. '+ df[date_col].astype(str).sample(1) +' correct')\n",
    "         \n",
    "    except ValueError:\n",
    "        print('date column invalid')\n",
    "        pass\n",
    "\n",
    "    ## check 31rst of relevant months\n",
    "    d_m = df[date_col].astype(str).str.split('-',1,expand = True)[1]\n",
    "    end_month_date = d_m.str.contains('31')\n",
    "    \n",
    "    print('\\nEnd of month dates:\\n',\n",
    "          d_m[end_month_date].unique()\n",
    "         )\n",
    "    ## check leap year  \n",
    "    leap_year = df[date_col].astype(str).str.contains('02-29')\n",
    "    \n",
    "    print('\\nLeap year dates:\\n',\n",
    "          df[date_col][leap_year].unique())\n",
    "    \n",
    "    ## check earliest and latest dates\n",
    "    print('\\nEarliest date:', df[date_col].min())\n",
    "    print('Latest date:', df[date_col].max())\n"
   ]
  },
  {
   "cell_type": "code",
   "execution_count": 42,
   "id": "2bae0a1b",
   "metadata": {},
   "outputs": [],
   "source": [
    "## White space check\n",
    "\n",
    "def check_whitespace(df_col):\n",
    "    '''\n",
    "    df_col is a specific column of a dataframe. is a series.\n",
    "    '''\n",
    "    unique_vals = df_col.unique()\n",
    "    print('       unique str values are ', unique_vals)\n",
    "    for st in unique_vals:\n",
    "        if (st==None):\n",
    "            print('       None')\n",
    "            continue\n",
    "        try:\n",
    "            if st.startswith(' '):\n",
    "                print(f'       bad string ({st})')\n",
    "        except AttributeError:\n",
    "            print('       attribute not determined as str:', st, 'in', unique_vals)\n",
    "        try:\n",
    "            if st.endswith(' '):\n",
    "                print(f'       bad string ({st})')\n",
    "        except AttributeError:\n",
    "            print('       attribute not determined as str:',  st, 'in', unique_vals)\n"
   ]
  },
  {
   "cell_type": "code",
   "execution_count": 1,
   "id": "bd26ce0b",
   "metadata": {},
   "outputs": [],
   "source": [
    "## Output min max \n",
    "\n",
    "def calc_metrics(df_col):\n",
    "    if (df_col.dtype == 'str'):\n",
    "        print('cannot calc metrics on col of type str.')\n",
    "        return None\n",
    "    if (df_col.dtype == 'O'):\n",
    "        print('df_col is of type object. Converted to float.')\n",
    "        df_col = df_col.astype('float')\n",
    "    print(f'Col {df_col.name} values are: ')\n",
    "    print(f'       min: {df_col.min()}')\n",
    "    print(f'       mean: {df_col.mean()}')\n",
    "    print(f'       max: {df_col.max()}')\n",
    "    \n"
   ]
  }
 ],
 "metadata": {
  "kernelspec": {
   "display_name": "Python 3 (ipykernel)",
   "language": "python",
   "name": "python3"
  },
  "language_info": {
   "codemirror_mode": {
    "name": "ipython",
    "version": 3
   },
   "file_extension": ".py",
   "mimetype": "text/x-python",
   "name": "python",
   "nbconvert_exporter": "python",
   "pygments_lexer": "ipython3",
   "version": "3.10.5"
  }
 },
 "nbformat": 4,
 "nbformat_minor": 5
}
